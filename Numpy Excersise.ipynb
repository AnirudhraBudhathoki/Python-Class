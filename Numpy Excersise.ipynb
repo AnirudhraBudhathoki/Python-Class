{
 "cells": [
  {
   "cell_type": "code",
   "execution_count": 10,
   "id": "5463af66",
   "metadata": {},
   "outputs": [],
   "source": [
    "import numpy as np\n"
   ]
  },
  {
   "cell_type": "code",
   "execution_count": 16,
   "id": "08dd5ca7",
   "metadata": {},
   "outputs": [],
   "source": [
    "data = np.genfromtxt('NumpyExerciseData (1).csv', delimiter=',', skip_header=1)\n"
   ]
  },
  {
   "cell_type": "code",
   "execution_count": 17,
   "id": "56c2dccf",
   "metadata": {},
   "outputs": [
    {
     "name": "stdout",
     "output_type": "stream",
     "text": [
      "[[ 1.     5.768 62.55   0.    28.     2.6   28.       nan    nan    nan\n",
      "     nan]\n",
      " [ 1.     8.949 66.91   0.    27.    -2.    46.       nan    nan    nan\n",
      "     nan]\n",
      " [ 1.     1.024 34.42   0.    20.    -3.4   14.       nan    nan    nan\n",
      "     nan]\n",
      " [ 1.     4.534 47.93   0.    10.     1.1   17.       nan    nan    nan\n",
      "     nan]\n",
      " [ 1.     8.641 35.26   0.    30.     3.8   32.       nan    nan    nan\n",
      "     nan]\n",
      " [ 1.     1.063 42.14   0.     6.    -2.1    8.       nan    nan    nan\n",
      "     nan]\n",
      " [ 1.     5.306 39.8    0.    29.    -1.8   30.       nan    nan    nan\n",
      "     nan]\n",
      " [ 1.     4.309 36.14   0.    12.    -3.4   22.       nan    nan    nan\n",
      "     nan]\n",
      " [ 1.     3.739 44.53   0.    39.     1.9   24.       nan    nan    nan\n",
      "     nan]\n",
      " [ 1.     3.816 60.01   0.    10.    -3.4   24.       nan    nan    nan\n",
      "     nan]\n",
      " [ 1.     8.539 36.9    0.    31.    -3.    43.       nan    nan    nan\n",
      "     nan]\n",
      " [ 1.     7.129 35.77   0.    38.     3.5   30.       nan    nan    nan\n",
      "     nan]\n",
      " [ 1.     4.249 37.17   0.    23.     0.8   20.       nan    nan    nan\n",
      "     nan]\n",
      " [ 1.    -2.99  42.41   0.    20.    -3.1    2.       nan    nan    nan\n",
      "     nan]\n",
      " [ 1.     0.356 57.67   0.    26.    -3.8   19.       nan    nan    nan\n",
      "     nan]\n",
      " [ 1.     5.487 35.25   0.    10.    -2.8   24.       nan    nan    nan\n",
      "     nan]\n",
      " [ 1.     5.699 62.15   0.    13.     2.4   22.       nan    nan    nan\n",
      "     nan]\n",
      " [ 1.    -0.373 38.38   1.    42.     2.    23.       nan    nan    nan\n",
      "     nan]\n",
      " [ 1.     3.9   40.53   0.    23.    -2.5   25.       nan    nan    nan\n",
      "     nan]\n",
      " [ 1.     3.616 35.91   1.    16.     3.1   23.       nan    nan    nan\n",
      "     nan]\n",
      " [ 1.     9.103 59.6    0.    14.     2.2   34.       nan    nan    nan\n",
      "     nan]\n",
      " [ 1.     2.714 43.54   0.    37.     2.1   19.       nan    nan    nan\n",
      "     nan]\n",
      " [ 1.     6.885 35.66   1.    20.    -3.7   46.       nan    nan    nan\n",
      "     nan]\n",
      " [ 1.    -0.85  43.94   1.    31.    -3.2   26.       nan    nan    nan\n",
      "     nan]\n",
      " [ 1.     5.511 58.96   0.     6.    -3.8   28.       nan    nan    nan\n",
      "     nan]\n",
      " [ 1.     5.225 45.25   0.    24.    -1.3   28.       nan    nan    nan\n",
      "     nan]\n",
      " [ 1.     7.982 43.71   0.    27.     2.    33.       nan    nan    nan\n",
      "     nan]\n",
      " [ 1.     4.361 52.71   0.    22.    -2.5   28.       nan    nan    nan\n",
      "     nan]\n",
      " [ 1.     2.853 51.12   0.    42.     2.3   22.       nan    nan    nan\n",
      "     nan]\n",
      " [ 1.     2.777 38.6    1.    24.    -2.5   33.       nan    nan    nan\n",
      "     nan]\n",
      " [ 1.     1.977 49.07   0.    41.    -3.6   28.       nan    nan    nan\n",
      "     nan]\n",
      " [ 1.     3.784 45.44   0.    12.    -1.9   20.       nan    nan    nan\n",
      "     nan]\n",
      " [ 1.     3.043 62.5    0.    25.    -1.9   25.       nan    nan    nan\n",
      "     nan]\n",
      " [ 1.     5.618 52.44   0.    27.     1.1   28.       nan    nan    nan\n",
      "     nan]\n",
      " [ 1.     7.374 38.25   0.    36.     3.1   31.       nan    nan    nan\n",
      "     nan]\n",
      " [ 1.     3.09  56.77   0.    49.    -1.7   33.       nan    nan    nan\n",
      "     nan]\n",
      " [ 1.     6.178 61.51   1.     6.    -2.5   41.       nan    nan    nan\n",
      "     nan]\n",
      " [ 1.     4.605 58.22   0.    41.     0.2   32.       nan    nan    nan\n",
      "     nan]\n",
      " [ 1.     1.968 65.84   0.    76.     3.5   33.       nan    nan    nan\n",
      "     nan]\n",
      " [ 1.     3.61  45.18   1.    43.     2.5   36.       nan    nan    nan\n",
      "     nan]\n",
      " [ 1.     9.896 65.18   0.    69.     2.3   58.       nan    nan    nan\n",
      "     nan]\n",
      " [ 1.    -0.256 53.7    0.    13.     0.3    5.       nan    nan    nan\n",
      "     nan]\n",
      " [ 1.     4.545 39.25   1.    18.     2.2   29.       nan    nan    nan\n",
      "     nan]\n",
      " [ 1.     3.121 36.89   0.    20.     4.1   10.       nan    nan    nan\n",
      "     nan]\n",
      " [ 1.     4.698 40.65   0.     8.    -1.8   20.       nan    nan    nan\n",
      "     nan]\n",
      " [ 1.    -0.328 49.64   0.    18.     0.5    6.       nan    nan    nan\n",
      "     nan]\n",
      " [ 1.     5.216 44.49   1.    11.     3.2   28.       nan    nan    nan\n",
      "     nan]\n",
      " [ 1.    -2.111 51.31   0.    25.     2.6   -1.       nan    nan    nan\n",
      "     nan]\n",
      " [ 1.     6.804 36.12   0.    24.     3.    25.       nan    nan    nan\n",
      "     nan]\n",
      " [ 1.     5.643 39.06   0.    35.    -1.9   34.       nan    nan    nan\n",
      "     nan]]\n"
     ]
    }
   ],
   "source": [
    "print(data)"
   ]
  },
  {
   "cell_type": "code",
   "execution_count": null,
   "id": "6cbe1988",
   "metadata": {},
   "outputs": [],
   "source": []
  },
  {
   "cell_type": "code",
   "execution_count": null,
   "id": "6c6abfc9",
   "metadata": {},
   "outputs": [],
   "source": []
  }
 ],
 "metadata": {
  "kernelspec": {
   "display_name": "Python 3 (ipykernel)",
   "language": "python",
   "name": "python3"
  },
  "language_info": {
   "codemirror_mode": {
    "name": "ipython",
    "version": 3
   },
   "file_extension": ".py",
   "mimetype": "text/x-python",
   "name": "python",
   "nbconvert_exporter": "python",
   "pygments_lexer": "ipython3",
   "version": "3.9.12"
  }
 },
 "nbformat": 4,
 "nbformat_minor": 5
}
